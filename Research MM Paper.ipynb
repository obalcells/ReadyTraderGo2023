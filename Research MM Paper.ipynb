{
 "cells": [
  {
   "cell_type": "code",
   "execution_count": 19,
   "id": "23ff1dda",
   "metadata": {},
   "outputs": [],
   "source": [
    "import numpy as np\n",
    "import matplotlib.pyplot as plt\n",
    "import enum\n",
    "from scipy.stats import norm"
   ]
  },
  {
   "cell_type": "markdown",
   "id": "eecb9b24",
   "metadata": {},
   "source": [
    "### Global variables"
   ]
  },
  {
   "cell_type": "code",
   "execution_count": 17,
   "id": "e8f8cdf8",
   "metadata": {},
   "outputs": [],
   "source": [
    "tick_size = 1.00 # in dollars\n",
    "initial_price = 1000\n",
    "mu = 0\n",
    "sigma_jump = 1\n",
    "sigma_initial_p = 5\n",
    "informed_traders = 0.3\n",
    "number_timesteps = 100000\n"
   ]
  },
  {
   "cell_type": "markdown",
   "id": "852c5c06",
   "metadata": {},
   "source": [
    "### Market Class\n",
    "Simulates the incoming trades and keeps track of the current \"true\" price of the ETF"
   ]
  },
  {
   "cell_type": "code",
   "execution_count": 18,
   "id": "2b0e5cc3",
   "metadata": {},
   "outputs": [],
   "source": [
    "class Side(enum.IntEnum):\n",
    "    SELL = 0\n",
    "    BUY = 1\n",
    "    ASK = SELL\n",
    "    BID = BUY\n",
    "    A = SELL"
   ]
  },
  {
   "cell_type": "code",
   "execution_count": 15,
   "id": "56282af4",
   "metadata": {},
   "outputs": [],
   "source": [
    "class Market:\n",
    "    def __init__(self):\n",
    "        self.p = 0.005\n",
    "        self.v = initial_price\n",
    "        self.alpha = informed_traders\n",
    "        self.prices = np.zeros(number_timesteps)\n",
    "        self.t = 0\n",
    "        \n",
    "    def next_trade(self, bid, ask):\n",
    "        delta, jump_happened = update_true_price()\n",
    "        self.prices[t] = self.v # to keep track of the \"true\" price\n",
    "        t += 1\n",
    "        \n",
    "        # select the next trader\n",
    "        trade = pick_next_trade()\n",
    "        \n",
    "        return trade\n",
    "        \n",
    "    def pick_next_trade():\n",
    "        if np.random.uniform(0, 1) > self.alpha:\n",
    "            # uniformed trader\n",
    "            # TODO: measure how often we select an uninformed trader\n",
    "            # it should be close to self.alpha\n",
    "            if np.random.uniform(0, 1) < 0.5:\n",
    "                return BUY\n",
    "            else:\n",
    "                return SELL\n",
    "        else:\n",
    "            # informed trader\n",
    "            if self.v > ask:\n",
    "                return BUY\n",
    "            elif self.v < bid:\n",
    "                return SELL\n",
    "            else:\n",
    "                return pick_next_trade()\n",
    "        \n",
    "    \n",
    "    # probabilistic update of the true price\n",
    "    def update_true_price(self):\n",
    "        if np.random.uniform(0, 1) > self.p:\n",
    "            # no price jump\n",
    "            return 0, False\n",
    "        \n",
    "        delta = np.random.normal(mu, sigma_jump)\n",
    "        self.v += delta\n",
    "        \n",
    "        return delta, True\n",
    "        \n",
    "        "
   ]
  },
  {
   "cell_type": "markdown",
   "id": "38d4056d",
   "metadata": {},
   "source": [
    "### The Dynamic Probability Distribution on the Price\n",
    "Our estimate for the true price of the stock\n"
   ]
  },
  {
   "cell_type": "code",
   "execution_count": null,
   "id": "dd2a4b79",
   "metadata": {},
   "outputs": [],
   "source": [
    "class PriceDist:\n",
    "    def __init__(self):\n",
    "        self.v = initial_price\n",
    "        num = 100000 / tick_size\n",
    "        self.p, step = np.linspace(0, number_timesteps, num=num, endpoint=True, retstep=True)\n",
    "        print(\"Step size is\", step)\n",
    "        self.market = Market()\n",
    "        self.price_estimates = np.zeros(number_timesteps)\n",
    "        \n",
    "    def initialize_p(self):\n",
    "        price_l = 0\n",
    "        price_r = 0 + tick_size\n",
    "        for i in range(len(self.p)):\n",
    "            self.p[i] = norm.cdf((price_r - self.v) / sigma_initial_p) - norm.cdf((price_l - self.v) / sigma_initial_p)            \n",
    "            price_l += tick_size\n",
    "            price_r += tick_size\n",
    "            \n",
    "    def trade(self):\n",
    "        bid, ask = calculate_spread()\n",
    "        trade = market.next_trade(bid, ask)\n",
    "        update_distribution(trade)\n",
    "    \n",
    "    def calculate_spread(self):\n",
    "        pass\n",
    "    \n",
    "    def update_distribution(self, trade):\n",
    "        # calculate bayesian posterior distribution given that we received a BUY order\n",
    "        price_l = 0\n",
    "        price_r = 0 + tick_size\n",
    "        for i in range(len(self.p)):\n",
    "            if trade == BUY:  \n",
    "                self.p[i] = self.p_given_buy[i]\n",
    "            else:\n",
    "                self_p[i] = self.p_given_sell[i]\n",
    "            price_l += tick_size\n",
    "            price_r += tick_size\n",
    "    \n",
    "    def start(self):\n",
    "        for i in range(number_timesteps):\n",
    "            trade()\n",
    "        "
   ]
  },
  {
   "cell_type": "code",
   "execution_count": null,
   "id": "d9a893cf",
   "metadata": {},
   "outputs": [],
   "source": [
    "priceDist = PriceDist()\n",
    "priceDist.start()"
   ]
  },
  {
   "cell_type": "code",
   "execution_count": null,
   "id": "29c2e307",
   "metadata": {},
   "outputs": [],
   "source": [
    "timesteps = np.linspace(0, number_timesteps, )"
   ]
  }
 ],
 "metadata": {
  "kernelspec": {
   "display_name": "Python 3 (ipykernel)",
   "language": "python",
   "name": "python3"
  },
  "language_info": {
   "codemirror_mode": {
    "name": "ipython",
    "version": 3
   },
   "file_extension": ".py",
   "mimetype": "text/x-python",
   "name": "python",
   "nbconvert_exporter": "python",
   "pygments_lexer": "ipython3",
   "version": "3.10.8"
  }
 },
 "nbformat": 4,
 "nbformat_minor": 5
}
