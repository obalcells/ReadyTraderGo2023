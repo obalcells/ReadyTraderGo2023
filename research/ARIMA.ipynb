{
 "cells": [
  {
   "cell_type": "code",
   "execution_count": 1,
   "id": "446f99c9",
   "metadata": {},
   "outputs": [],
   "source": [
    "import pandas as pd"
   ]
  },
  {
   "cell_type": "code",
   "execution_count": 4,
   "id": "3722a7ed",
   "metadata": {},
   "outputs": [],
   "source": [
    "df = pd.read_csv(\"nyc_energy_consumption.csv\")"
   ]
  },
  {
   "cell_type": "code",
   "execution_count": 5,
   "id": "123b23dc",
   "metadata": {},
   "outputs": [
    {
     "data": {
      "text/html": [
       "<div>\n",
       "<style scoped>\n",
       "    .dataframe tbody tr th:only-of-type {\n",
       "        vertical-align: middle;\n",
       "    }\n",
       "\n",
       "    .dataframe tbody tr th {\n",
       "        vertical-align: top;\n",
       "    }\n",
       "\n",
       "    .dataframe thead th {\n",
       "        text-align: right;\n",
       "    }\n",
       "</style>\n",
       "<table border=\"1\" class=\"dataframe\">\n",
       "  <thead>\n",
       "    <tr style=\"text-align: right;\">\n",
       "      <th></th>\n",
       "      <th>timeStamp</th>\n",
       "      <th>demand</th>\n",
       "      <th>precip</th>\n",
       "      <th>temp</th>\n",
       "    </tr>\n",
       "  </thead>\n",
       "  <tbody>\n",
       "    <tr>\n",
       "      <th>0</th>\n",
       "      <td>2012-01-01 00:00:00</td>\n",
       "      <td>4937.5</td>\n",
       "      <td>0.0</td>\n",
       "      <td>46.13</td>\n",
       "    </tr>\n",
       "    <tr>\n",
       "      <th>1</th>\n",
       "      <td>2012-01-01 01:00:00</td>\n",
       "      <td>4752.1</td>\n",
       "      <td>0.0</td>\n",
       "      <td>45.89</td>\n",
       "    </tr>\n",
       "    <tr>\n",
       "      <th>2</th>\n",
       "      <td>2012-01-01 02:00:00</td>\n",
       "      <td>4542.6</td>\n",
       "      <td>0.0</td>\n",
       "      <td>45.04</td>\n",
       "    </tr>\n",
       "    <tr>\n",
       "      <th>3</th>\n",
       "      <td>2012-01-01 03:00:00</td>\n",
       "      <td>4357.7</td>\n",
       "      <td>0.0</td>\n",
       "      <td>45.03</td>\n",
       "    </tr>\n",
       "    <tr>\n",
       "      <th>4</th>\n",
       "      <td>2012-01-01 04:00:00</td>\n",
       "      <td>4275.5</td>\n",
       "      <td>0.0</td>\n",
       "      <td>42.61</td>\n",
       "    </tr>\n",
       "  </tbody>\n",
       "</table>\n",
       "</div>"
      ],
      "text/plain": [
       "             timeStamp  demand  precip   temp\n",
       "0  2012-01-01 00:00:00  4937.5     0.0  46.13\n",
       "1  2012-01-01 01:00:00  4752.1     0.0  45.89\n",
       "2  2012-01-01 02:00:00  4542.6     0.0  45.04\n",
       "3  2012-01-01 03:00:00  4357.7     0.0  45.03\n",
       "4  2012-01-01 04:00:00  4275.5     0.0  42.61"
      ]
     },
     "execution_count": 5,
     "metadata": {},
     "output_type": "execute_result"
    }
   ],
   "source": [
    "df.head()"
   ]
  },
  {
   "cell_type": "code",
   "execution_count": 6,
   "id": "2d6ccdec",
   "metadata": {},
   "outputs": [],
   "source": [
    "df['timeStamp']=pd.to_datetime(df['timeStamp'])"
   ]
  },
  {
   "cell_type": "code",
   "execution_count": 7,
   "id": "80bc0c28",
   "metadata": {},
   "outputs": [
    {
     "data": {
      "text/html": [
       "<div>\n",
       "<style scoped>\n",
       "    .dataframe tbody tr th:only-of-type {\n",
       "        vertical-align: middle;\n",
       "    }\n",
       "\n",
       "    .dataframe tbody tr th {\n",
       "        vertical-align: top;\n",
       "    }\n",
       "\n",
       "    .dataframe thead th {\n",
       "        text-align: right;\n",
       "    }\n",
       "</style>\n",
       "<table border=\"1\" class=\"dataframe\">\n",
       "  <thead>\n",
       "    <tr style=\"text-align: right;\">\n",
       "      <th></th>\n",
       "      <th>timeStamp</th>\n",
       "      <th>demand</th>\n",
       "      <th>precip</th>\n",
       "      <th>temp</th>\n",
       "    </tr>\n",
       "  </thead>\n",
       "  <tbody>\n",
       "    <tr>\n",
       "      <th>0</th>\n",
       "      <td>2012-01-01 00:00:00</td>\n",
       "      <td>4937.5</td>\n",
       "      <td>0.0</td>\n",
       "      <td>46.13</td>\n",
       "    </tr>\n",
       "    <tr>\n",
       "      <th>1</th>\n",
       "      <td>2012-01-01 01:00:00</td>\n",
       "      <td>4752.1</td>\n",
       "      <td>0.0</td>\n",
       "      <td>45.89</td>\n",
       "    </tr>\n",
       "    <tr>\n",
       "      <th>2</th>\n",
       "      <td>2012-01-01 02:00:00</td>\n",
       "      <td>4542.6</td>\n",
       "      <td>0.0</td>\n",
       "      <td>45.04</td>\n",
       "    </tr>\n",
       "    <tr>\n",
       "      <th>3</th>\n",
       "      <td>2012-01-01 03:00:00</td>\n",
       "      <td>4357.7</td>\n",
       "      <td>0.0</td>\n",
       "      <td>45.03</td>\n",
       "    </tr>\n",
       "    <tr>\n",
       "      <th>4</th>\n",
       "      <td>2012-01-01 04:00:00</td>\n",
       "      <td>4275.5</td>\n",
       "      <td>0.0</td>\n",
       "      <td>42.61</td>\n",
       "    </tr>\n",
       "  </tbody>\n",
       "</table>\n",
       "</div>"
      ],
      "text/plain": [
       "            timeStamp  demand  precip   temp\n",
       "0 2012-01-01 00:00:00  4937.5     0.0  46.13\n",
       "1 2012-01-01 01:00:00  4752.1     0.0  45.89\n",
       "2 2012-01-01 02:00:00  4542.6     0.0  45.04\n",
       "3 2012-01-01 03:00:00  4357.7     0.0  45.03\n",
       "4 2012-01-01 04:00:00  4275.5     0.0  42.61"
      ]
     },
     "execution_count": 7,
     "metadata": {},
     "output_type": "execute_result"
    }
   ],
   "source": [
    "df.head()"
   ]
  },
  {
   "cell_type": "code",
   "execution_count": 8,
   "id": "a57f1c7b",
   "metadata": {},
   "outputs": [],
   "source": [
    "import matplotlib.pyplot as plt"
   ]
  },
  {
   "cell_type": "code",
   "execution_count": 13,
   "id": "a67dc8d5",
   "metadata": {},
   "outputs": [
    {
     "data": {
      "text/plain": [
       "<AxesSubplot: xlabel='timeStamp'>"
      ]
     },
     "execution_count": 13,
     "metadata": {},
     "output_type": "execute_result"
    },
    {
     "data": {
      "image/png": "[encoded data removed]",
      "text/plain": [
       "<Figure size 640x480 with 1 Axes>"
      ]
     },
     "metadata": {},
     "output_type": "display_data"
    }
   ],
   "source": [
    "el_df = df.set_index('timeStamp')\n",
    "el_df[\"temp\"].plot()"
   ]
  },
  {
   "cell_type": "code",
   "execution_count": 14,
   "id": "0917bed0",
   "metadata": {},
   "outputs": [],
   "source": [
    "df[\"demand\"] = df[\"demand\"].fillna(method=\"ffill\")\n",
    "df[\"temp\"]=df[\"temp\"].fillna(method='ffill')\n",
    "df[\"temp\"]=df[\"precip\"].fillna(method='ffill')"
   ]
  },
  {
   "cell_type": "code",
   "execution_count": 15,
   "id": "cfd40909",
   "metadata": {},
   "outputs": [
    {
     "data": {
      "text/html": [
       "<div>\n",
       "<style scoped>\n",
       "    .dataframe tbody tr th:only-of-type {\n",
       "        vertical-align: middle;\n",
       "    }\n",
       "\n",
       "    .dataframe tbody tr th {\n",
       "        vertical-align: top;\n",
       "    }\n",
       "\n",
       "    .dataframe thead th {\n",
       "        text-align: right;\n",
       "    }\n",
       "</style>\n",
       "<table border=\"1\" class=\"dataframe\">\n",
       "  <thead>\n",
       "    <tr style=\"text-align: right;\">\n",
       "      <th></th>\n",
       "      <th>demand</th>\n",
       "      <th>precip</th>\n",
       "      <th>temp</th>\n",
       "    </tr>\n",
       "    <tr>\n",
       "      <th>timeStamp</th>\n",
       "      <th></th>\n",
       "      <th></th>\n",
       "      <th></th>\n",
       "    </tr>\n",
       "  </thead>\n",
       "  <tbody>\n",
       "    <tr>\n",
       "      <th>2012-01-31</th>\n",
       "      <td>5757.495833</td>\n",
       "      <td>0.003116</td>\n",
       "      <td>37.174288</td>\n",
       "    </tr>\n",
       "    <tr>\n",
       "      <th>2012-02-29</th>\n",
       "      <td>5622.331609</td>\n",
       "      <td>0.001650</td>\n",
       "      <td>40.448046</td>\n",
       "    </tr>\n",
       "    <tr>\n",
       "      <th>2012-03-31</th>\n",
       "      <td>5479.845491</td>\n",
       "      <td>0.001179</td>\n",
       "      <td>49.607917</td>\n",
       "    </tr>\n",
       "    <tr>\n",
       "      <th>2012-04-30</th>\n",
       "      <td>5368.945833</td>\n",
       "      <td>0.003959</td>\n",
       "      <td>54.255903</td>\n",
       "    </tr>\n",
       "    <tr>\n",
       "      <th>2012-05-31</th>\n",
       "      <td>5867.896102</td>\n",
       "      <td>0.005064</td>\n",
       "      <td>64.188078</td>\n",
       "    </tr>\n",
       "    <tr>\n",
       "      <th>...</th>\n",
       "      <td>...</td>\n",
       "      <td>...</td>\n",
       "      <td>...</td>\n",
       "    </tr>\n",
       "    <tr>\n",
       "      <th>2017-04-30</th>\n",
       "      <td>5232.217107</td>\n",
       "      <td>0.002942</td>\n",
       "      <td>55.621764</td>\n",
       "    </tr>\n",
       "    <tr>\n",
       "      <th>2017-05-31</th>\n",
       "      <td>5421.315935</td>\n",
       "      <td>0.004031</td>\n",
       "      <td>61.115457</td>\n",
       "    </tr>\n",
       "    <tr>\n",
       "      <th>2017-06-30</th>\n",
       "      <td>6597.990346</td>\n",
       "      <td>0.003008</td>\n",
       "      <td>71.962625</td>\n",
       "    </tr>\n",
       "    <tr>\n",
       "      <th>2017-07-31</th>\n",
       "      <td>7309.246677</td>\n",
       "      <td>0.002272</td>\n",
       "      <td>76.395270</td>\n",
       "    </tr>\n",
       "    <tr>\n",
       "      <th>2017-08-31</th>\n",
       "      <td>6971.501248</td>\n",
       "      <td>0.008961</td>\n",
       "      <td>73.730258</td>\n",
       "    </tr>\n",
       "  </tbody>\n",
       "</table>\n",
       "<p>68 rows × 3 columns</p>\n",
       "</div>"
      ],
      "text/plain": [
       "                 demand    precip       temp\n",
       "timeStamp                                   \n",
       "2012-01-31  5757.495833  0.003116  37.174288\n",
       "2012-02-29  5622.331609  0.001650  40.448046\n",
       "2012-03-31  5479.845491  0.001179  49.607917\n",
       "2012-04-30  5368.945833  0.003959  54.255903\n",
       "2012-05-31  5867.896102  0.005064  64.188078\n",
       "...                 ...       ...        ...\n",
       "2017-04-30  5232.217107  0.002942  55.621764\n",
       "2017-05-31  5421.315935  0.004031  61.115457\n",
       "2017-06-30  6597.990346  0.003008  71.962625\n",
       "2017-07-31  7309.246677  0.002272  76.395270\n",
       "2017-08-31  6971.501248  0.008961  73.730258\n",
       "\n",
       "[68 rows x 3 columns]"
      ]
     },
     "execution_count": 15,
     "metadata": {},
     "output_type": "execute_result"
    }
   ],
   "source": [
    "el_df.resample('M').mean()"
   ]
  },
  {
   "cell_type": "code",
   "execution_count": 17,
   "id": "0fc0c5b6",
   "metadata": {},
   "outputs": [],
   "source": [
    "final_df = el_df.resample('M').mean()"
   ]
  },
  {
   "cell_type": "code",
   "execution_count": 7,
   "id": "2c9e396a",
   "metadata": {},
   "outputs": [
    {
     "name": "stdout",
     "output_type": "stream",
     "text": [
      "Requirement already satisfied: pmdarima in /opt/homebrew/lib/python3.10/site-packages (2.0.3)\n",
      "Requirement already satisfied: scipy>=1.3.2 in /opt/homebrew/lib/python3.10/site-packages (from pmdarima) (1.10.0)\n",
      "Requirement already satisfied: urllib3 in /opt/homebrew/lib/python3.10/site-packages (from pmdarima) (1.26.15)\n",
      "Requirement already satisfied: joblib>=0.11 in /opt/homebrew/lib/python3.10/site-packages (from pmdarima) (1.2.0)\n",
      "Requirement already satisfied: statsmodels>=0.13.2 in /opt/homebrew/lib/python3.10/site-packages (from pmdarima) (0.13.5)\n",
      "Requirement already satisfied: pandas>=0.19 in /opt/homebrew/lib/python3.10/site-packages (from pmdarima) (1.5.1)\n",
      "Requirement already satisfied: setuptools!=50.0.0,>=38.6.0 in /opt/homebrew/lib/python3.10/site-packages (from pmdarima) (67.6.0)\n",
      "Requirement already satisfied: Cython!=0.29.18,!=0.29.31,>=0.29 in /opt/homebrew/lib/python3.10/site-packages (from pmdarima) (0.29.33)\n",
      "Requirement already satisfied: scikit-learn>=0.22 in /opt/homebrew/lib/python3.10/site-packages (from pmdarima) (1.2.2)\n",
      "Requirement already satisfied: numpy>=1.21.2 in /opt/homebrew/lib/python3.10/site-packages (from pmdarima) (1.23.4)\n",
      "Requirement already satisfied: python-dateutil>=2.8.1 in /opt/homebrew/lib/python3.10/site-packages (from pandas>=0.19->pmdarima) (2.8.2)\n",
      "Requirement already satisfied: pytz>=2020.1 in /opt/homebrew/lib/python3.10/site-packages (from pandas>=0.19->pmdarima) (2022.6)\n",
      "Requirement already satisfied: threadpoolctl>=2.0.0 in /opt/homebrew/lib/python3.10/site-packages (from scikit-learn>=0.22->pmdarima) (3.1.0)\n",
      "Requirement already satisfied: patsy>=0.5.2 in /opt/homebrew/lib/python3.10/site-packages (from statsmodels>=0.13.2->pmdarima) (0.5.3)\n",
      "Requirement already satisfied: packaging>=21.3 in /opt/homebrew/lib/python3.10/site-packages (from statsmodels>=0.13.2->pmdarima) (22.0)\n",
      "Requirement already satisfied: six in /opt/homebrew/lib/python3.10/site-packages (from patsy>=0.5.2->statsmodels>=0.13.2->pmdarima) (1.16.0)\n"
     ]
    }
   ],
   "source": [
    "!pip install pmdarima"
   ]
  },
  {
   "cell_type": "code",
   "execution_count": 19,
   "id": "068ad143",
   "metadata": {},
   "outputs": [],
   "source": [
    "import pmdarima as pm"
   ]
  },
  {
   "cell_type": "code",
   "execution_count": 32,
   "id": "bb399cef",
   "metadata": {},
   "outputs": [],
   "source": [
    "X = final_df.loc[:, final_df.columns!=\"demand\"].to_numpy()"
   ]
  },
  {
   "cell_type": "code",
   "execution_count": 34,
   "id": "adf20167",
   "metadata": {},
   "outputs": [
    {
     "data": {
      "text/plain": [
       "(68, 2)"
      ]
     },
     "execution_count": 34,
     "metadata": {},
     "output_type": "execute_result"
    }
   ],
   "source": [
    "X.shape"
   ]
  },
  {
   "cell_type": "code",
   "execution_count": 36,
   "id": "a31573d3",
   "metadata": {},
   "outputs": [
    {
     "name": "stdout",
     "output_type": "stream",
     "text": [
      "Performing stepwise search to minimize aic\n",
      " ARIMA(0,0,0)(1,0,1)[12] intercept   : AIC=1087.789, Time=0.54 sec\n",
      " ARIMA(0,0,0)(0,0,0)[12] intercept   : AIC=1096.534, Time=0.03 sec\n",
      " ARIMA(1,0,0)(1,0,0)[12] intercept   : AIC=1099.664, Time=0.15 sec\n",
      " ARIMA(0,0,1)(0,0,1)[12] intercept   : AIC=1097.711, Time=0.14 sec\n",
      " ARIMA(0,0,0)(0,0,0)[12]             : AIC=1157.641, Time=0.02 sec\n",
      " ARIMA(0,0,0)(0,0,1)[12] intercept   : AIC=1095.665, Time=0.17 sec\n",
      " ARIMA(0,0,0)(1,0,0)[12] intercept   : AIC=1091.252, Time=0.16 sec\n",
      " ARIMA(0,0,0)(2,0,1)[12] intercept   : AIC=inf, Time=0.45 sec\n",
      " ARIMA(0,0,0)(1,0,2)[12] intercept   : AIC=1089.225, Time=0.43 sec\n",
      " ARIMA(0,0,0)(0,0,2)[12] intercept   : AIC=1095.187, Time=0.35 sec\n",
      " ARIMA(0,0,0)(2,0,0)[12] intercept   : AIC=1099.090, Time=0.34 sec\n",
      " ARIMA(0,0,0)(2,0,2)[12] intercept   : AIC=inf, Time=0.73 sec\n",
      " ARIMA(1,0,0)(1,0,1)[12] intercept   : AIC=1088.296, Time=0.18 sec\n",
      " ARIMA(0,0,1)(1,0,1)[12] intercept   : AIC=1087.707, Time=0.16 sec\n",
      " ARIMA(0,0,1)(1,0,0)[12] intercept   : AIC=1094.523, Time=0.12 sec\n",
      " ARIMA(0,0,1)(2,0,1)[12] intercept   : AIC=1089.122, Time=0.42 sec\n",
      " ARIMA(0,0,1)(1,0,2)[12] intercept   : AIC=1088.997, Time=0.43 sec\n",
      " ARIMA(0,0,1)(0,0,0)[12] intercept   : AIC=1092.033, Time=0.05 sec\n",
      " ARIMA(0,0,1)(0,0,2)[12] intercept   : AIC=1108.033, Time=0.40 sec\n",
      " ARIMA(0,0,1)(2,0,0)[12] intercept   : AIC=1103.183, Time=0.31 sec\n",
      " ARIMA(0,0,1)(2,0,2)[12] intercept   : AIC=inf, Time=0.91 sec\n",
      " ARIMA(1,0,1)(1,0,1)[12] intercept   : AIC=1088.496, Time=0.27 sec\n",
      " ARIMA(0,0,2)(1,0,1)[12] intercept   : AIC=inf, Time=0.28 sec\n",
      " ARIMA(1,0,2)(1,0,1)[12] intercept   : AIC=inf, Time=0.34 sec\n",
      " ARIMA(0,0,1)(1,0,1)[12]             : AIC=inf, Time=0.17 sec\n",
      "\n",
      "Best model:  ARIMA(0,0,1)(1,0,1)[12] intercept\n",
      "Total fit time: 7.595 seconds\n"
     ]
    }
   ],
   "source": [
    "model = pm.auto_arima(\n",
    "    final_df['demand'],\n",
    "    X=X,\n",
    "    m=12,\n",
    "    seasonal=True,\n",
    "    start_p=0, start_q=0, max_order=4,\n",
    "    test='adf', error_action='ignore',\n",
    "    suppress_warnings=True,\n",
    "    stepwise=True,\n",
    "    trace=True\n",
    ")"
   ]
  },
  {
   "cell_type": "code",
   "execution_count": 21,
   "id": "a05b67bb",
   "metadata": {},
   "outputs": [],
   "source": [
    "train=final_df[(final_df.index.get_level_values(0) >= '2012-01-31') & (final_df.index.get_level_values(0) <= '2017-04-30')]"
   ]
  },
  {
   "cell_type": "code",
   "execution_count": 22,
   "id": "c2561551",
   "metadata": {},
   "outputs": [],
   "source": [
    "test=final_df[(final_df.index.get_level_values(0) > '2017-04-30')]"
   ]
  },
  {
   "cell_type": "code",
   "execution_count": 23,
   "id": "7babe48b",
   "metadata": {},
   "outputs": [
    {
     "data": {
      "text/html": [
       "<div>\n",
       "<style scoped>\n",
       "    .dataframe tbody tr th:only-of-type {\n",
       "        vertical-align: middle;\n",
       "    }\n",
       "\n",
       "    .dataframe tbody tr th {\n",
       "        vertical-align: top;\n",
       "    }\n",
       "\n",
       "    .dataframe thead th {\n",
       "        text-align: right;\n",
       "    }\n",
       "</style>\n",
       "<table border=\"1\" class=\"dataframe\">\n",
       "  <thead>\n",
       "    <tr style=\"text-align: right;\">\n",
       "      <th></th>\n",
       "      <th>demand</th>\n",
       "      <th>precip</th>\n",
       "      <th>temp</th>\n",
       "    </tr>\n",
       "    <tr>\n",
       "      <th>timeStamp</th>\n",
       "      <th></th>\n",
       "      <th></th>\n",
       "      <th></th>\n",
       "    </tr>\n",
       "  </thead>\n",
       "  <tbody>\n",
       "    <tr>\n",
       "      <th>2017-05-31</th>\n",
       "      <td>5421.315935</td>\n",
       "      <td>0.004031</td>\n",
       "      <td>61.115457</td>\n",
       "    </tr>\n",
       "    <tr>\n",
       "      <th>2017-06-30</th>\n",
       "      <td>6597.990346</td>\n",
       "      <td>0.003008</td>\n",
       "      <td>71.962625</td>\n",
       "    </tr>\n",
       "    <tr>\n",
       "      <th>2017-07-31</th>\n",
       "      <td>7309.246677</td>\n",
       "      <td>0.002272</td>\n",
       "      <td>76.395270</td>\n",
       "    </tr>\n",
       "    <tr>\n",
       "      <th>2017-08-31</th>\n",
       "      <td>6971.501248</td>\n",
       "      <td>0.008961</td>\n",
       "      <td>73.730258</td>\n",
       "    </tr>\n",
       "  </tbody>\n",
       "</table>\n",
       "</div>"
      ],
      "text/plain": [
       "                 demand    precip       temp\n",
       "timeStamp                                   \n",
       "2017-05-31  5421.315935  0.004031  61.115457\n",
       "2017-06-30  6597.990346  0.003008  71.962625\n",
       "2017-07-31  7309.246677  0.002272  76.395270\n",
       "2017-08-31  6971.501248  0.008961  73.730258"
      ]
     },
     "execution_count": 23,
     "metadata": {},
     "output_type": "execute_result"
    }
   ],
   "source": [
    "test"
   ]
  },
  {
   "cell_type": "code",
   "execution_count": 24,
   "id": "87c5e62c",
   "metadata": {},
   "outputs": [
    {
     "data": {
      "text/html": [
       "<style>#sk-container-id-1 {color: black;background-color: white;}#sk-container-id-1 pre{padding: 0;}#sk-container-id-1 div.sk-toggleable {background-color: white;}#sk-container-id-1 label.sk-toggleable__label {cursor: pointer;display: block;width: 100%;margin-bottom: 0;padding: 0.3em;box-sizing: border-box;text-align: center;}#sk-container-id-1 label.sk-toggleable__label-arrow:before {content: \"▸\";float: left;margin-right: 0.25em;color: #696969;}#sk-container-id-1 label.sk-toggleable__label-arrow:hover:before {color: black;}#sk-container-id-1 div.sk-estimator:hover label.sk-toggleable__label-arrow:before {color: black;}#sk-container-id-1 div.sk-toggleable__content {max-height: 0;max-width: 0;overflow: hidden;text-align: left;background-color: #f0f8ff;}#sk-container-id-1 div.sk-toggleable__content pre {margin: 0.2em;color: black;border-radius: 0.25em;background-color: #f0f8ff;}#sk-container-id-1 input.sk-toggleable__control:checked~div.sk-toggleable__content {max-height: 200px;max-width: 100%;overflow: auto;}#sk-container-id-1 input.sk-toggleable__control:checked~label.sk-toggleable__label-arrow:before {content: \"▾\";}#sk-container-id-1 div.sk-estimator input.sk-toggleable__control:checked~label.sk-toggleable__label {background-color: #d4ebff;}#sk-container-id-1 div.sk-label input.sk-toggleable__control:checked~label.sk-toggleable__label {background-color: #d4ebff;}#sk-container-id-1 input.sk-hidden--visually {border: 0;clip: rect(1px 1px 1px 1px);clip: rect(1px, 1px, 1px, 1px);height: 1px;margin: -1px;overflow: hidden;padding: 0;position: absolute;width: 1px;}#sk-container-id-1 div.sk-estimator {font-family: monospace;background-color: #f0f8ff;border: 1px dotted black;border-radius: 0.25em;box-sizing: border-box;margin-bottom: 0.5em;}#sk-container-id-1 div.sk-estimator:hover {background-color: #d4ebff;}#sk-container-id-1 div.sk-parallel-item::after {content: \"\";width: 100%;border-bottom: 1px solid gray;flex-grow: 1;}#sk-container-id-1 div.sk-label:hover label.sk-toggleable__label {background-color: #d4ebff;}#sk-container-id-1 div.sk-serial::before {content: \"\";position: absolute;border-left: 1px solid gray;box-sizing: border-box;top: 0;bottom: 0;left: 50%;z-index: 0;}#sk-container-id-1 div.sk-serial {display: flex;flex-direction: column;align-items: center;background-color: white;padding-right: 0.2em;padding-left: 0.2em;position: relative;}#sk-container-id-1 div.sk-item {position: relative;z-index: 1;}#sk-container-id-1 div.sk-parallel {display: flex;align-items: stretch;justify-content: center;background-color: white;position: relative;}#sk-container-id-1 div.sk-item::before, #sk-container-id-1 div.sk-parallel-item::before {content: \"\";position: absolute;border-left: 1px solid gray;box-sizing: border-box;top: 0;bottom: 0;left: 50%;z-index: -1;}#sk-container-id-1 div.sk-parallel-item {display: flex;flex-direction: column;z-index: 1;position: relative;background-color: white;}#sk-container-id-1 div.sk-parallel-item:first-child::after {align-self: flex-end;width: 50%;}#sk-container-id-1 div.sk-parallel-item:last-child::after {align-self: flex-start;width: 50%;}#sk-container-id-1 div.sk-parallel-item:only-child::after {width: 0;}#sk-container-id-1 div.sk-dashed-wrapped {border: 1px dashed gray;margin: 0 0.4em 0.5em 0.4em;box-sizing: border-box;padding-bottom: 0.4em;background-color: white;}#sk-container-id-1 div.sk-label label {font-family: monospace;font-weight: bold;display: inline-block;line-height: 1.2em;}#sk-container-id-1 div.sk-label-container {text-align: center;}#sk-container-id-1 div.sk-container {/* jupyter's `normalize.less` sets `[hidden] { display: none; }` but bootstrap.min.css set `[hidden] { display: none !important; }` so we also need the `!important` here to be able to override the default hidden behavior on the sphinx rendered scikit-learn.org. See: https://github.com/scikit-learn/scikit-learn/issues/21755 */display: inline-block !important;position: relative;}#sk-container-id-1 div.sk-text-repr-fallback {display: none;}</style><div id=\"sk-container-id-1\" class=\"sk-top-container\"><div class=\"sk-text-repr-fallback\"><pre> ARIMA(2,0,0)(0,0,2)[12] intercept</pre><b>In a Jupyter environment, please rerun this cell to show the HTML representation or trust the notebook. <br />On GitHub, the HTML representation is unable to render, please try loading this page with nbviewer.org.</b></div><div class=\"sk-container\" hidden><div class=\"sk-item\"><div class=\"sk-estimator sk-toggleable\"><input class=\"sk-toggleable__control sk-hidden--visually\" id=\"sk-estimator-id-1\" type=\"checkbox\" checked><label for=\"sk-estimator-id-1\" class=\"sk-toggleable__label sk-toggleable__label-arrow\">ARIMA</label><div class=\"sk-toggleable__content\"><pre> ARIMA(2,0,0)(0,0,2)[12] intercept</pre></div></div></div></div></div>"
      ],
      "text/plain": [
       "ARIMA(order=(2, 0, 0), scoring_args={}, seasonal_order=(0, 0, 2, 12),\n",
       "      suppress_warnings=True)"
      ]
     },
     "execution_count": 24,
     "metadata": {},
     "output_type": "execute_result"
    }
   ],
   "source": [
    "model.fit(train['demand'])"
   ]
  },
  {
   "cell_type": "code",
   "execution_count": 25,
   "id": "de30585b",
   "metadata": {},
   "outputs": [],
   "source": [
    "forecast=model.predict(n_periods=4, return_conf_int=True)"
   ]
  },
  {
   "cell_type": "code",
   "execution_count": 26,
   "id": "94cdf80d",
   "metadata": {},
   "outputs": [
    {
     "data": {
      "text/plain": [
       "(2017-05-31    5322.118125\n",
       " 2017-06-30    6205.604217\n",
       " 2017-07-31    7187.965210\n",
       " 2017-08-31    7302.376985\n",
       " Freq: M, dtype: float64,\n",
       " array([[4724.96265911, 5919.27359131],\n",
       "        [5401.98228687, 7009.22614798],\n",
       "        [6361.51377323, 8014.41664679],\n",
       "        [6471.18869791, 8133.56527215]]))"
      ]
     },
     "execution_count": 26,
     "metadata": {},
     "output_type": "execute_result"
    }
   ],
   "source": [
    "forecast"
   ]
  },
  {
   "cell_type": "code",
   "execution_count": 27,
   "id": "c04d105f",
   "metadata": {},
   "outputs": [],
   "source": [
    "forecast_df = pd.DataFrame(forecast[0], index=test.index, columns=['Prediction'])"
   ]
  },
  {
   "cell_type": "code",
   "execution_count": 30,
   "id": "1e43b955",
   "metadata": {},
   "outputs": [
    {
     "data": {
      "text/plain": [
       "<AxesSubplot: xlabel='timeStamp'>"
      ]
     },
     "execution_count": 30,
     "metadata": {},
     "output_type": "execute_result"
    },
    {
     "data": {
      "image/png": "[encoded data removed]",
      "text/plain": [
       "<Figure size 640x480 with 1 Axes>"
      ]
     },
     "metadata": {},
     "output_type": "display_data"
    }
   ],
   "source": [
    "pd.concat([final_df['demand'],forecast_df],axis=1).plot()"
   ]
  },
  {
   "cell_type": "markdown",
   "id": "9a36568e",
   "metadata": {},
   "source": [
    "### Does arima work for me?"
   ]
  },
  {
   "cell_type": "code",
   "execution_count": 5,
   "id": "8f77f05e",
   "metadata": {},
   "outputs": [],
   "source": [
    "from typing import Tuple, List"
   ]
  },
  {
   "cell_type": "code",
   "execution_count": null,
   "id": "07e5371a",
   "metadata": {},
   "outputs": [],
   "source": []
  },
  {
   "cell_type": "code",
   "execution_count": 6,
   "id": "25c786fd",
   "metadata": {},
   "outputs": [
    {
     "ename": "NameError",
     "evalue": "name 'TimeSeries' is not defined",
     "output_type": "error",
     "traceback": [
      "\u001b[0;31m---------------------------------------------------------------------------\u001b[0m",
      "\u001b[0;31mNameError\u001b[0m                                 Traceback (most recent call last)",
      "Cell \u001b[0;32mIn [6], line 9\u001b[0m\n\u001b[1;32m      6\u001b[0m RESCALE \u001b[38;5;241m=\u001b[39m \u001b[38;5;28;01mTrue\u001b[39;00m\n\u001b[1;32m      7\u001b[0m TRAINING_SIZE_PERCENTAGE \u001b[38;5;241m=\u001b[39m \u001b[38;5;241m0.8\u001b[39m\n\u001b[0;32m----> 9\u001b[0m \u001b[38;5;28;01mdef\u001b[39;00m \u001b[38;5;21mload_market_data\u001b[39m() \u001b[38;5;241m-\u001b[39m\u001b[38;5;241m>\u001b[39m Tuple[List[\u001b[43mTimeSeries\u001b[49m], List[TimeSeries]]:\n\u001b[1;32m     10\u001b[0m     all_p \u001b[38;5;241m=\u001b[39m []\n\u001b[1;32m     11\u001b[0m     all_cov \u001b[38;5;241m=\u001b[39m []\n",
      "\u001b[0;31mNameError\u001b[0m: name 'TimeSeries' is not defined"
     ]
    }
   ],
   "source": [
    "market_data_files = [ \"market2_traders.csv\", \"market1_no_traders.csv\", \"round0_traders.csv\" ]\n",
    "save_for_later_file = [ \"market3_traders.csv\" ]\n",
    "\n",
    "# loads, cleans the market data files\n",
    "\n",
    "RESCALE = True\n",
    "TRAINING_SIZE_PERCENTAGE = 0.8\n",
    "\n",
    "def load_market_data() -> Tuple[List[TimeSeries], List[TimeSeries]]:\n",
    "    all_p = []\n",
    "    all_cov = []\n",
    "    \n",
    "    for market_file_name in market_data_files:\n",
    "        # we make sure that we're only reading rows where the last traded prices aren't 0\n",
    "        df = pd.read_csv(market_file_name).iloc[30:]\n",
    "        for column in df.columns:\n",
    "            assert df[column].isnull().values.any() == False\n",
    "        assert len(df[df[\"LastTradedPriceETF\"] == 0]) == 0\n",
    "        assert len(df[df[\"LastTradedPriceFUT\"] == 0]) == 0\n",
    "        all_p.append(TimeSeries.from_series(df[\"MidPriceETF\"]))\n",
    "        all_cov.append(TimeSeries.from_series(df.loc[:,df.columns!=\"MidPriceETF\"]))\n",
    "        \n",
    "    # split train/test\n",
    "    p_train = [s[:math.floor(TRAINING_SIZE_PERCENTAGE * len(s))] for s in all_p]\n",
    "    p_test = [s[math.floor(TRAINING_SIZE_PERCENTAGE * len(s)):] for s in all_p]\n",
    "    cov_train = [s[:math.floor(TRAINING_SIZE_PERCENTAGE * len(s))] for s in all_cov]\n",
    "    cov_test = [s[math.floor(TRAINING_SIZE_PERCENTAGE * len(s)):] for s in all_cov]\n",
    "\n",
    "    # scaling\n",
    "    if RESCALE:\n",
    "        scaler_price = Scaler()\n",
    "        p_train: List[TimeSeries] = scaler_price.fit_transform(p_train)\n",
    "        p_test: List[TimeSeries] = scaler_price.transform(p_test)\n",
    "\n",
    "        scaler_covariates=Scaler()\n",
    "        cov_train: List[TimeSeries] = scaler_covariates.fit_transform(cov_train)\n",
    "        cov_test: List[TimeSeries] = scaler_covariates.transform(cov_test)\n",
    "\n",
    "    return p_train, p_test, cov_train, cov_test"
   ]
  },
  {
   "cell_type": "code",
   "execution_count": null,
   "id": "21d88946",
   "metadata": {},
   "outputs": [],
   "source": []
  }
 ],
 "metadata": {
  "kernelspec": {
   "display_name": "Python 3 (ipykernel)",
   "language": "python",
   "name": "python3"
  },
  "language_info": {
   "codemirror_mode": {
    "name": "ipython",
    "version": 3
   },
   "file_extension": ".py",
   "mimetype": "text/x-python",
   "name": "python",
   "nbconvert_exporter": "python",
   "pygments_lexer": "ipython3",
   "version": "3.10.8"
  }
 },
 "nbformat": 4,
 "nbformat_minor": 5
}
