{
 "cells": [
  {
   "cell_type": "markdown",
   "id": "c2c16a77",
   "metadata": {
    "papermill": {
     "duration": 0.014131,
     "end_time": "2021-12-12T14:54:04.975735",
     "exception": false,
     "start_time": "2021-12-12T14:54:04.961604",
     "status": "completed"
    },
    "tags": []
   },
   "source": [
    "# Submitting Lagged Features via API\n",
    "\n",
    "In this notebook we submit a LGBM model with lagged features via the API.\n",
    "\n",
    "The API works by providing a single row for each Asset - one timestamp at a time - to prevent using future data in predictions.\n",
    "\n",
    "In order to utilise lagged features in our model, we must store the outputs from the API so we can calculate features using past data."
   ]
  },
  {
   "cell_type": "code",
   "execution_count": 1,
   "id": "1cfdeb6e",
   "metadata": {
    "execution": {
     "iopub.execute_input": "2021-12-12T14:54:05.009942Z",
     "iopub.status.busy": "2021-12-12T14:54:05.008628Z",
     "iopub.status.idle": "2021-12-12T14:54:07.054953Z",
     "shell.execute_reply": "2021-12-12T14:54:07.055607Z",
     "shell.execute_reply.started": "2021-12-12T14:02:21.487623Z"
    },
    "papermill": {
     "duration": 2.064673,
     "end_time": "2021-12-12T14:54:07.056027",
     "exception": false,
     "start_time": "2021-12-12T14:54:04.991354",
     "status": "completed"
    },
    "tags": []
   },
   "outputs": [
    {
     "data": {
      "text/html": [
       "<style type='text/css'>\n",
       ".datatable table.frame { margin-bottom: 0; }\n",
       ".datatable table.frame thead { border-bottom: none; }\n",
       ".datatable table.frame tr.coltypes td {  color: #FFFFFF;  line-height: 6px;  padding: 0 0.5em;}\n",
       ".datatable .bool    { background: #DDDD99; }\n",
       ".datatable .object  { background: #565656; }\n",
       ".datatable .int     { background: #5D9E5D; }\n",
       ".datatable .float   { background: #4040CC; }\n",
       ".datatable .str     { background: #CC4040; }\n",
       ".datatable .time    { background: #40CC40; }\n",
       ".datatable .row_index {  background: var(--jp-border-color3);  border-right: 1px solid var(--jp-border-color0);  color: var(--jp-ui-font-color3);  font-size: 9px;}\n",
       ".datatable .frame tbody td { text-align: left; }\n",
       ".datatable .frame tr.coltypes .row_index {  background: var(--jp-border-color0);}\n",
       ".datatable th:nth-child(2) { padding-left: 12px; }\n",
       ".datatable .hellipsis {  color: var(--jp-cell-editor-border-color);}\n",
       ".datatable .vellipsis {  background: var(--jp-layout-color0);  color: var(--jp-cell-editor-border-color);}\n",
       ".datatable .na {  color: var(--jp-cell-editor-border-color);  font-size: 80%;}\n",
       ".datatable .sp {  opacity: 0.25;}\n",
       ".datatable .footer { font-size: 9px; }\n",
       ".datatable .frame_dimensions {  background: var(--jp-border-color3);  border-top: 1px solid var(--jp-border-color0);  color: var(--jp-ui-font-color3);  display: inline-block;  opacity: 0.6;  padding: 1px 10px 1px 5px;}\n",
       ".datatable .frame thead tr.colnames {  background-image: url('data:image/png;base64,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');  background-repeat: repeat-x;  background-size: 14px;  height: 28px;}\n",
       "</style>\n"
      ],
      "text/plain": [
       "<IPython.core.display.HTML object>"
      ]
     },
     "metadata": {},
     "output_type": "display_data"
    }
   ],
   "source": [
    "import os\n",
    "import random\n",
    "import pandas as pd\n",
    "import numpy as np\n",
    "import lightgbm as lgb\n",
    "import gresearch_crypto\n",
    "import time\n",
    "import datetime\n",
    "\n",
    "TRAIN_CSV = '/kaggle/input/g-research-crypto-forecasting/train.csv'\n",
    "ASSET_DETAILS_CSV = '/kaggle/input/g-research-crypto-forecasting/asset_details.csv'"
   ]
  },
  {
   "cell_type": "code",
   "execution_count": 2,
   "id": "d0e38d30",
   "metadata": {
    "execution": {
     "iopub.execute_input": "2021-12-12T14:54:07.089071Z",
     "iopub.status.busy": "2021-12-12T14:54:07.087114Z",
     "iopub.status.idle": "2021-12-12T14:55:10.232111Z",
     "shell.execute_reply": "2021-12-12T14:55:10.232722Z",
     "shell.execute_reply.started": "2021-12-12T14:10:44.415849Z"
    },
    "papermill": {
     "duration": 63.16263,
     "end_time": "2021-12-12T14:55:10.232956",
     "exception": false,
     "start_time": "2021-12-12T14:54:07.070326",
     "status": "completed"
    },
    "tags": []
   },
   "outputs": [
    {
     "data": {
      "text/html": [
       "<div>\n",
       "<style scoped>\n",
       "    .dataframe tbody tr th:only-of-type {\n",
       "        vertical-align: middle;\n",
       "    }\n",
       "\n",
       "    .dataframe tbody tr th {\n",
       "        vertical-align: top;\n",
       "    }\n",
       "\n",
       "    .dataframe thead th {\n",
       "        text-align: right;\n",
       "    }\n",
       "</style>\n",
       "<table border=\"1\" class=\"dataframe\">\n",
       "  <thead>\n",
       "    <tr style=\"text-align: right;\">\n",
       "      <th></th>\n",
       "      <th>timestamp</th>\n",
       "      <th>Asset_ID</th>\n",
       "      <th>Count</th>\n",
       "      <th>Open</th>\n",
       "      <th>High</th>\n",
       "      <th>Low</th>\n",
       "      <th>Close</th>\n",
       "      <th>Volume</th>\n",
       "      <th>VWAP</th>\n",
       "      <th>Target</th>\n",
       "    </tr>\n",
       "  </thead>\n",
       "  <tbody>\n",
       "    <tr>\n",
       "      <th>0</th>\n",
       "      <td>1514764860</td>\n",
       "      <td>2</td>\n",
       "      <td>40.0</td>\n",
       "      <td>2376.5800</td>\n",
       "      <td>2399.5000</td>\n",
       "      <td>2357.1400</td>\n",
       "      <td>2374.5900</td>\n",
       "      <td>19.233005</td>\n",
       "      <td>2373.116392</td>\n",
       "      <td>-0.004218</td>\n",
       "    </tr>\n",
       "    <tr>\n",
       "      <th>1</th>\n",
       "      <td>1514764860</td>\n",
       "      <td>0</td>\n",
       "      <td>5.0</td>\n",
       "      <td>8.5300</td>\n",
       "      <td>8.5300</td>\n",
       "      <td>8.5300</td>\n",
       "      <td>8.5300</td>\n",
       "      <td>78.380000</td>\n",
       "      <td>8.530000</td>\n",
       "      <td>-0.014399</td>\n",
       "    </tr>\n",
       "    <tr>\n",
       "      <th>2</th>\n",
       "      <td>1514764860</td>\n",
       "      <td>1</td>\n",
       "      <td>229.0</td>\n",
       "      <td>13835.1940</td>\n",
       "      <td>14013.8000</td>\n",
       "      <td>13666.1100</td>\n",
       "      <td>13850.1760</td>\n",
       "      <td>31.550062</td>\n",
       "      <td>13827.062093</td>\n",
       "      <td>-0.014643</td>\n",
       "    </tr>\n",
       "    <tr>\n",
       "      <th>3</th>\n",
       "      <td>1514764860</td>\n",
       "      <td>5</td>\n",
       "      <td>32.0</td>\n",
       "      <td>7.6596</td>\n",
       "      <td>7.6596</td>\n",
       "      <td>7.6567</td>\n",
       "      <td>7.6576</td>\n",
       "      <td>6626.713370</td>\n",
       "      <td>7.657713</td>\n",
       "      <td>-0.013922</td>\n",
       "    </tr>\n",
       "    <tr>\n",
       "      <th>4</th>\n",
       "      <td>1514764860</td>\n",
       "      <td>7</td>\n",
       "      <td>5.0</td>\n",
       "      <td>25.9200</td>\n",
       "      <td>25.9200</td>\n",
       "      <td>25.8740</td>\n",
       "      <td>25.8770</td>\n",
       "      <td>121.087310</td>\n",
       "      <td>25.891363</td>\n",
       "      <td>-0.008264</td>\n",
       "    </tr>\n",
       "  </tbody>\n",
       "</table>\n",
       "</div>"
      ],
      "text/plain": [
       "    timestamp  Asset_ID  Count        Open        High         Low  \\\n",
       "0  1514764860         2   40.0   2376.5800   2399.5000   2357.1400   \n",
       "1  1514764860         0    5.0      8.5300      8.5300      8.5300   \n",
       "2  1514764860         1  229.0  13835.1940  14013.8000  13666.1100   \n",
       "3  1514764860         5   32.0      7.6596      7.6596      7.6567   \n",
       "4  1514764860         7    5.0     25.9200     25.9200     25.8740   \n",
       "\n",
       "        Close       Volume          VWAP    Target  \n",
       "0   2374.5900    19.233005   2373.116392 -0.004218  \n",
       "1      8.5300    78.380000      8.530000 -0.014399  \n",
       "2  13850.1760    31.550062  13827.062093 -0.014643  \n",
       "3      7.6576  6626.713370      7.657713 -0.013922  \n",
       "4     25.8770   121.087310     25.891363 -0.008264  "
      ]
     },
     "execution_count": 2,
     "metadata": {},
     "output_type": "execute_result"
    }
   ],
   "source": [
    "df_train = pd.read_csv(TRAIN_CSV)\n",
    "df_train.head()"
   ]
  },
  {
   "cell_type": "code",
   "execution_count": 3,
   "id": "435f2085",
   "metadata": {
    "execution": {
     "iopub.execute_input": "2021-12-12T14:55:10.266894Z",
     "iopub.status.busy": "2021-12-12T14:55:10.266118Z",
     "iopub.status.idle": "2021-12-12T14:55:10.292748Z",
     "shell.execute_reply": "2021-12-12T14:55:10.292013Z",
     "shell.execute_reply.started": "2021-12-12T14:11:51.225559Z"
    },
    "papermill": {
     "duration": 0.046067,
     "end_time": "2021-12-12T14:55:10.292912",
     "exception": false,
     "start_time": "2021-12-12T14:55:10.246845",
     "status": "completed"
    },
    "tags": []
   },
   "outputs": [
    {
     "data": {
      "text/html": [
       "<div>\n",
       "<style scoped>\n",
       "    .dataframe tbody tr th:only-of-type {\n",
       "        vertical-align: middle;\n",
       "    }\n",
       "\n",
       "    .dataframe tbody tr th {\n",
       "        vertical-align: top;\n",
       "    }\n",
       "\n",
       "    .dataframe thead th {\n",
       "        text-align: right;\n",
       "    }\n",
       "</style>\n",
       "<table border=\"1\" class=\"dataframe\">\n",
       "  <thead>\n",
       "    <tr style=\"text-align: right;\">\n",
       "      <th></th>\n",
       "      <th>Asset_ID</th>\n",
       "      <th>Weight</th>\n",
       "      <th>Asset_Name</th>\n",
       "    </tr>\n",
       "  </thead>\n",
       "  <tbody>\n",
       "    <tr>\n",
       "      <th>1</th>\n",
       "      <td>0</td>\n",
       "      <td>4.304065</td>\n",
       "      <td>Binance Coin</td>\n",
       "    </tr>\n",
       "    <tr>\n",
       "      <th>2</th>\n",
       "      <td>1</td>\n",
       "      <td>6.779922</td>\n",
       "      <td>Bitcoin</td>\n",
       "    </tr>\n",
       "    <tr>\n",
       "      <th>0</th>\n",
       "      <td>2</td>\n",
       "      <td>2.397895</td>\n",
       "      <td>Bitcoin Cash</td>\n",
       "    </tr>\n",
       "    <tr>\n",
       "      <th>10</th>\n",
       "      <td>3</td>\n",
       "      <td>4.406719</td>\n",
       "      <td>Cardano</td>\n",
       "    </tr>\n",
       "    <tr>\n",
       "      <th>13</th>\n",
       "      <td>4</td>\n",
       "      <td>3.555348</td>\n",
       "      <td>Dogecoin</td>\n",
       "    </tr>\n",
       "    <tr>\n",
       "      <th>3</th>\n",
       "      <td>5</td>\n",
       "      <td>1.386294</td>\n",
       "      <td>EOS.IO</td>\n",
       "    </tr>\n",
       "    <tr>\n",
       "      <th>5</th>\n",
       "      <td>6</td>\n",
       "      <td>5.894403</td>\n",
       "      <td>Ethereum</td>\n",
       "    </tr>\n",
       "    <tr>\n",
       "      <th>4</th>\n",
       "      <td>7</td>\n",
       "      <td>2.079442</td>\n",
       "      <td>Ethereum Classic</td>\n",
       "    </tr>\n",
       "    <tr>\n",
       "      <th>11</th>\n",
       "      <td>8</td>\n",
       "      <td>1.098612</td>\n",
       "      <td>IOTA</td>\n",
       "    </tr>\n",
       "    <tr>\n",
       "      <th>6</th>\n",
       "      <td>9</td>\n",
       "      <td>2.397895</td>\n",
       "      <td>Litecoin</td>\n",
       "    </tr>\n",
       "    <tr>\n",
       "      <th>12</th>\n",
       "      <td>10</td>\n",
       "      <td>1.098612</td>\n",
       "      <td>Maker</td>\n",
       "    </tr>\n",
       "    <tr>\n",
       "      <th>7</th>\n",
       "      <td>11</td>\n",
       "      <td>1.609438</td>\n",
       "      <td>Monero</td>\n",
       "    </tr>\n",
       "    <tr>\n",
       "      <th>9</th>\n",
       "      <td>12</td>\n",
       "      <td>2.079442</td>\n",
       "      <td>Stellar</td>\n",
       "    </tr>\n",
       "    <tr>\n",
       "      <th>8</th>\n",
       "      <td>13</td>\n",
       "      <td>1.791759</td>\n",
       "      <td>TRON</td>\n",
       "    </tr>\n",
       "  </tbody>\n",
       "</table>\n",
       "</div>"
      ],
      "text/plain": [
       "    Asset_ID    Weight        Asset_Name\n",
       "1          0  4.304065      Binance Coin\n",
       "2          1  6.779922           Bitcoin\n",
       "0          2  2.397895      Bitcoin Cash\n",
       "10         3  4.406719           Cardano\n",
       "13         4  3.555348          Dogecoin\n",
       "3          5  1.386294            EOS.IO\n",
       "5          6  5.894403          Ethereum\n",
       "4          7  2.079442  Ethereum Classic\n",
       "11         8  1.098612              IOTA\n",
       "6          9  2.397895          Litecoin\n",
       "12        10  1.098612             Maker\n",
       "7         11  1.609438            Monero\n",
       "9         12  2.079442           Stellar\n",
       "8         13  1.791759              TRON"
      ]
     },
     "execution_count": 3,
     "metadata": {},
     "output_type": "execute_result"
    }
   ],
   "source": [
    "df_asset_details = pd.read_csv(ASSET_DETAILS_CSV).sort_values(\"Asset_ID\")\n",
    "df_asset_details"
   ]
  },
  {
   "cell_type": "code",
   "execution_count": 4,
   "id": "050b6e3e",
   "metadata": {
    "execution": {
     "iopub.execute_input": "2021-12-12T14:55:10.336616Z",
     "iopub.status.busy": "2021-12-12T14:55:10.335666Z",
     "iopub.status.idle": "2021-12-12T14:55:10.339321Z",
     "shell.execute_reply": "2021-12-12T14:55:10.338671Z",
     "shell.execute_reply.started": "2021-12-12T14:11:51.262341Z"
    },
    "papermill": {
     "duration": 0.031967,
     "end_time": "2021-12-12T14:55:10.339465",
     "exception": false,
     "start_time": "2021-12-12T14:55:10.307498",
     "status": "completed"
    },
    "tags": []
   },
   "outputs": [],
   "source": [
    "def get_features(df, \n",
    "                 asset_id, \n",
    "                 train=True):\n",
    "    '''\n",
    "    This function takes a dataframe with all asset data and return the lagged features for a single asset.\n",
    "    \n",
    "    df - Full dataframe with all assets included\n",
    "    asset_id - integer from 0-13 inclusive to represent a cryptocurrency asset\n",
    "    train - True - you are training your model\n",
    "          - False - you are submitting your model via api\n",
    "    '''\n",
    "    \n",
    "    df = df[df['Asset_ID']==asset_id]\n",
    "    df = df.sort_values('timestamp')\n",
    "    if train == True:\n",
    "        df_feat = df.copy()\n",
    "        # define a train_flg column to split your data into train and validation\n",
    "        totimestamp = lambda s: np.int32(time.mktime(datetime.datetime.strptime(s, \"%d/%m/%Y\").timetuple()))\n",
    "        valid_window = [totimestamp(\"12/03/2021\")]\n",
    "        df_feat['train_flg'] = np.where(df_feat['timestamp']>=valid_window[0], 0,1)\n",
    "        df_feat = df_feat[['timestamp','Asset_ID','Close','Target','train_flg']].copy()\n",
    "    else:\n",
    "        df = df.sort_values('row_id')\n",
    "        df_feat = df[['Asset_ID','Close','row_id']].copy()\n",
    "    \n",
    "    # Create your features here, they can be lagged or not\n",
    "    df_feat['sma15'] = df_feat['Close'].rolling(15).mean()/df_feat['Close'] -1\n",
    "    df_feat['sma60'] = df_feat['Close'].rolling(60).mean()/df_feat['Close'] -1\n",
    "    df_feat['sma240'] = df_feat['Close'].rolling(240).mean()/df_feat['Close'] -1\n",
    "    \n",
    "    df_feat['return15'] = df_feat['Close']/df_feat['Close'].shift(15) -1\n",
    "    df_feat['return60'] = df_feat['Close']/df_feat['Close'].shift(60) -1\n",
    "    df_feat['return240'] = df_feat['Close']/df_feat['Close'].shift(240) -1\n",
    "    df_feat = df_feat.fillna(0)\n",
    "    \n",
    "    return df_feat"
   ]
  },
  {
   "cell_type": "code",
   "execution_count": 5,
   "id": "c7a0befc",
   "metadata": {
    "execution": {
     "iopub.execute_input": "2021-12-12T14:55:10.376781Z",
     "iopub.status.busy": "2021-12-12T14:55:10.375605Z",
     "iopub.status.idle": "2021-12-12T14:55:31.715307Z",
     "shell.execute_reply": "2021-12-12T14:55:31.714606Z",
     "shell.execute_reply.started": "2021-12-12T14:18:02.991148Z"
    },
    "papermill": {
     "duration": 21.361755,
     "end_time": "2021-12-12T14:55:31.715493",
     "exception": false,
     "start_time": "2021-12-12T14:55:10.353738",
     "status": "completed"
    },
    "tags": []
   },
   "outputs": [],
   "source": [
    "# create your feature dataframe for each asset and concatenate\n",
    "feature_df = pd.DataFrame()\n",
    "for i in range(14):\n",
    "    feature_df = pd.concat([feature_df,get_features(df_train,i,train=True)])"
   ]
  },
  {
   "cell_type": "code",
   "execution_count": 6,
   "id": "496f519f",
   "metadata": {
    "execution": {
     "iopub.execute_input": "2021-12-12T14:55:31.747835Z",
     "iopub.status.busy": "2021-12-12T14:55:31.747031Z",
     "iopub.status.idle": "2021-12-12T14:55:35.125080Z",
     "shell.execute_reply": "2021-12-12T14:55:35.125581Z",
     "shell.execute_reply.started": "2021-12-12T14:14:31.127986Z"
    },
    "papermill": {
     "duration": 3.396412,
     "end_time": "2021-12-12T14:55:35.125818",
     "exception": false,
     "start_time": "2021-12-12T14:55:31.729406",
     "status": "completed"
    },
    "tags": []
   },
   "outputs": [],
   "source": [
    "# assign weight column feature dataframe\n",
    "feature_df = pd.merge(feature_df, df_asset_details[['Asset_ID','Weight']], how='left', on=['Asset_ID'])"
   ]
  },
  {
   "cell_type": "code",
   "execution_count": 7,
   "id": "1bc1453f",
   "metadata": {
    "execution": {
     "iopub.execute_input": "2021-12-12T14:55:35.157706Z",
     "iopub.status.busy": "2021-12-12T14:55:35.156945Z",
     "iopub.status.idle": "2021-12-12T14:55:35.159914Z",
     "shell.execute_reply": "2021-12-12T14:55:35.160419Z",
     "shell.execute_reply.started": "2021-12-12T14:14:34.572413Z"
    },
    "papermill": {
     "duration": 0.020894,
     "end_time": "2021-12-12T14:55:35.160620",
     "exception": false,
     "start_time": "2021-12-12T14:55:35.139726",
     "status": "completed"
    },
    "tags": []
   },
   "outputs": [],
   "source": [
    "# define features for LGBM\n",
    "features = ['Asset_ID','sma15','sma60','sma240','return15','return60','return240']\n",
    "categoricals = ['Asset_ID']"
   ]
  },
  {
   "cell_type": "code",
   "execution_count": 8,
   "id": "f1d85a5b",
   "metadata": {
    "execution": {
     "iopub.execute_input": "2021-12-12T14:55:35.191898Z",
     "iopub.status.busy": "2021-12-12T14:55:35.191177Z",
     "iopub.status.idle": "2021-12-12T14:55:35.198533Z",
     "shell.execute_reply": "2021-12-12T14:55:35.199129Z",
     "shell.execute_reply.started": "2021-12-12T14:14:39.244759Z"
    },
    "papermill": {
     "duration": 0.024907,
     "end_time": "2021-12-12T14:55:35.199336",
     "exception": false,
     "start_time": "2021-12-12T14:55:35.174429",
     "status": "completed"
    },
    "tags": []
   },
   "outputs": [],
   "source": [
    "# define the evaluation metric\n",
    "def weighted_correlation(a, train_data):\n",
    "    \n",
    "    weights = train_data.add_w.values.flatten()\n",
    "    b = train_data.get_label()\n",
    "    \n",
    "    \n",
    "    w = np.ravel(weights)\n",
    "    a = np.ravel(a)\n",
    "    b = np.ravel(b)\n",
    "\n",
    "    sum_w = np.sum(w)\n",
    "    mean_a = np.sum(a * w) / sum_w\n",
    "    mean_b = np.sum(b * w) / sum_w\n",
    "    var_a = np.sum(w * np.square(a - mean_a)) / sum_w\n",
    "    var_b = np.sum(w * np.square(b - mean_b)) / sum_w\n",
    "\n",
    "    cov = np.sum((a * b * w)) / np.sum(w) - mean_a * mean_b\n",
    "    corr = cov / np.sqrt(var_a * var_b)\n",
    "\n",
    "    return 'eval_wcorr', corr, True"
   ]
  },
  {
   "cell_type": "code",
   "execution_count": 9,
   "id": "a3f9d28e",
   "metadata": {
    "execution": {
     "iopub.execute_input": "2021-12-12T14:55:35.230786Z",
     "iopub.status.busy": "2021-12-12T14:55:35.230086Z",
     "iopub.status.idle": "2021-12-12T14:58:49.900747Z",
     "shell.execute_reply": "2021-12-12T14:58:49.901730Z",
     "shell.execute_reply.started": "2021-12-12T14:14:43.647299Z"
    },
    "papermill": {
     "duration": 194.68875,
     "end_time": "2021-12-12T14:58:49.901959",
     "exception": false,
     "start_time": "2021-12-12T14:55:35.213209",
     "status": "completed"
    },
    "tags": []
   },
   "outputs": [
    {
     "name": "stderr",
     "output_type": "stream",
     "text": [
      "/opt/conda/lib/python3.7/site-packages/lightgbm/engine.py:177: UserWarning: Found `n_estimators` in params. Will use it instead of argument\n",
      "  _log_warning(f\"Found `{alias}` in params. Will use it instead of argument\")\n",
      "/opt/conda/lib/python3.7/site-packages/lightgbm/engine.py:181: UserWarning: 'early_stopping_rounds' argument is deprecated and will be removed in a future release of LightGBM. Pass 'early_stopping()' callback via 'callbacks' argument instead.\n",
      "  _log_warning(\"'early_stopping_rounds' argument is deprecated and will be removed in a future release of LightGBM. \"\n",
      "/opt/conda/lib/python3.7/site-packages/lightgbm/basic.py:2065: UserWarning: Using categorical_feature in Dataset.\n",
      "  _log_warning('Using categorical_feature in Dataset.')\n",
      "/opt/conda/lib/python3.7/site-packages/lightgbm/engine.py:239: UserWarning: 'verbose_eval' argument is deprecated and will be removed in a future release of LightGBM. Pass 'log_evaluation()' callback via 'callbacks' argument instead.\n",
      "  _log_warning(\"'verbose_eval' argument is deprecated and will be removed in a future release of LightGBM. \"\n",
      "/opt/conda/lib/python3.7/site-packages/lightgbm/engine.py:260: UserWarning: 'evals_result' argument is deprecated and will be removed in a future release of LightGBM. Pass 'record_evaluation()' callback via 'callbacks' argument instead.\n",
      "  _log_warning(\"'evals_result' argument is deprecated and will be removed in a future release of LightGBM. \"\n",
      "/opt/conda/lib/python3.7/site-packages/lightgbm/basic.py:1780: UserWarning: Overriding the parameters from Reference Dataset.\n",
      "  _log_warning('Overriding the parameters from Reference Dataset.')\n",
      "/opt/conda/lib/python3.7/site-packages/lightgbm/basic.py:1513: UserWarning: categorical_column in param dict is overridden.\n",
      "  _log_warning(f'{cat_alias} in param dict is overridden.')\n"
     ]
    },
    {
     "name": "stdout",
     "output_type": "stream",
     "text": [
      "Training until validation scores don't improve for 100 rounds\n",
      "[10]\tvalid_0's eval_wcorr: 0.0185506\n",
      "[20]\tvalid_0's eval_wcorr: 0.0206417\n",
      "[30]\tvalid_0's eval_wcorr: 0.0219913\n",
      "[40]\tvalid_0's eval_wcorr: 0.0232244\n",
      "[50]\tvalid_0's eval_wcorr: 0.0238538\n",
      "[60]\tvalid_0's eval_wcorr: 0.0245744\n",
      "[70]\tvalid_0's eval_wcorr: 0.0250393\n",
      "[80]\tvalid_0's eval_wcorr: 0.0254607\n",
      "[90]\tvalid_0's eval_wcorr: 0.0260868\n",
      "[100]\tvalid_0's eval_wcorr: 0.0263855\n",
      "[110]\tvalid_0's eval_wcorr: 0.0268621\n",
      "[120]\tvalid_0's eval_wcorr: 0.0273323\n",
      "[130]\tvalid_0's eval_wcorr: 0.0276605\n",
      "[140]\tvalid_0's eval_wcorr: 0.0279507\n",
      "[150]\tvalid_0's eval_wcorr: 0.0284331\n",
      "[160]\tvalid_0's eval_wcorr: 0.028955\n",
      "[170]\tvalid_0's eval_wcorr: 0.0293294\n",
      "[180]\tvalid_0's eval_wcorr: 0.0293908\n",
      "[190]\tvalid_0's eval_wcorr: 0.029493\n",
      "[200]\tvalid_0's eval_wcorr: 0.0295711\n",
      "[210]\tvalid_0's eval_wcorr: 0.0295309\n",
      "[220]\tvalid_0's eval_wcorr: 0.0294381\n",
      "[230]\tvalid_0's eval_wcorr: 0.0293344\n",
      "[240]\tvalid_0's eval_wcorr: 0.0293416\n",
      "[250]\tvalid_0's eval_wcorr: 0.0292043\n",
      "[260]\tvalid_0's eval_wcorr: 0.0292324\n",
      "[270]\tvalid_0's eval_wcorr: 0.0292942\n",
      "[280]\tvalid_0's eval_wcorr: 0.0293116\n",
      "[290]\tvalid_0's eval_wcorr: 0.0293647\n",
      "[300]\tvalid_0's eval_wcorr: 0.0293938\n",
      "Early stopping, best iteration is:\n",
      "[201]\tvalid_0's eval_wcorr: 0.0296785\n"
     ]
    }
   ],
   "source": [
    "# define train and validation weights and datasets\n",
    "weights_train = feature_df.query('train_flg == 1')[['Weight']]\n",
    "weights_test = feature_df.query('train_flg == 0')[['Weight']]\n",
    "\n",
    "train_dataset = lgb.Dataset(feature_df.query('train_flg == 1')[features], \n",
    "                            feature_df.query('train_flg == 1')['Target'].values, \n",
    "                            feature_name = features, \n",
    "                            categorical_feature= categoricals)\n",
    "val_dataset = lgb.Dataset(feature_df.query('train_flg == 0')[features], \n",
    "                          feature_df.query('train_flg == 0')['Target'].values, \n",
    "                          feature_name = features, \n",
    "                          categorical_feature= categoricals)\n",
    "\n",
    "train_dataset.add_w = weights_train\n",
    "val_dataset.add_w = weights_test\n",
    "\n",
    "evals_result = {}\n",
    "params = {'n_estimators': 1000,\n",
    "        'objective': 'regression',\n",
    "        'metric': 'None',\n",
    "        'boosting_type': 'gbdt',\n",
    "        'max_depth': -1, \n",
    "        'learning_rate': 0.01,\n",
    "        'seed': 46,\n",
    "        'verbose': -1,\n",
    "        }\n",
    "\n",
    "# train LGBM2\n",
    "model = lgb.train(params = params,\n",
    "                  train_set = train_dataset, \n",
    "                  valid_sets = [val_dataset],\n",
    "                  early_stopping_rounds=100,\n",
    "                  verbose_eval = 10,\n",
    "                  feval=weighted_correlation,\n",
    "                  evals_result = evals_result \n",
    "                 )"
   ]
  },
  {
   "cell_type": "markdown",
   "id": "82bcb8be",
   "metadata": {
    "papermill": {
     "duration": 0.023402,
     "end_time": "2021-12-12T14:58:49.950444",
     "exception": false,
     "start_time": "2021-12-12T14:58:49.927042",
     "status": "completed"
    },
    "tags": []
   },
   "source": [
    "### Important!"
   ]
  },
  {
   "cell_type": "code",
   "execution_count": 10,
   "id": "acde360b",
   "metadata": {
    "execution": {
     "iopub.execute_input": "2021-12-12T14:58:50.002139Z",
     "iopub.status.busy": "2021-12-12T14:58:50.001476Z",
     "iopub.status.idle": "2021-12-12T14:58:50.004669Z",
     "shell.execute_reply": "2021-12-12T14:58:50.005302Z",
     "shell.execute_reply.started": "2021-12-12T14:27:17.625356Z"
    },
    "papermill": {
     "duration": 0.031108,
     "end_time": "2021-12-12T14:58:50.005466",
     "exception": false,
     "start_time": "2021-12-12T14:58:49.974358",
     "status": "completed"
    },
    "tags": []
   },
   "outputs": [],
   "source": [
    "# define max_lookback - an integer > (greater than) the furthest look back in your lagged features\n",
    "max_lookback = 250"
   ]
  },
  {
   "cell_type": "markdown",
   "id": "913b8296",
   "metadata": {
    "papermill": {
     "duration": 0.023852,
     "end_time": "2021-12-12T14:58:50.053081",
     "exception": false,
     "start_time": "2021-12-12T14:58:50.029229",
     "status": "completed"
    },
    "tags": []
   },
   "source": [
    "#### Now we will submit via api\n",
    "\n",
    "- As mentioned by the host here https://www.kaggle.com/c/g-research-crypto-forecasting/discussion/290412 - the api takes 10 minutes to complete when submitted on the full test data with a simple dummy prediction. \n",
    "\n",
    "- Therefore, any extra logic we include within the api loop with increase the time to completion significantly.\n",
    "\n",
    "- I have not focused on optimisation of the logic within this loop yet - there are definetly significant improvements you can try for yourself. For example, using numpy arrays instead of pandas dataframes may help.\n",
    "\n",
    "- For this version - the submission time is roughly 5 hours."
   ]
  },
  {
   "cell_type": "code",
   "execution_count": 11,
   "id": "83276e29",
   "metadata": {
    "execution": {
     "iopub.execute_input": "2021-12-12T14:58:50.103025Z",
     "iopub.status.busy": "2021-12-12T14:58:50.102379Z",
     "iopub.status.idle": "2021-12-12T14:58:50.717917Z",
     "shell.execute_reply": "2021-12-12T14:58:50.718543Z",
     "shell.execute_reply.started": "2021-12-12T14:27:20.174847Z"
    },
    "papermill": {
     "duration": 0.642228,
     "end_time": "2021-12-12T14:58:50.718795",
     "exception": false,
     "start_time": "2021-12-12T14:58:50.076567",
     "status": "completed"
    },
    "tags": []
   },
   "outputs": [
    {
     "name": "stdout",
     "output_type": "stream",
     "text": [
      "This version of the API is not optimized and should not be used to estimate the runtime of your code on the hidden test set.\n"
     ]
    },
    {
     "name": "stderr",
     "output_type": "stream",
     "text": [
      "/opt/conda/lib/python3.7/site-packages/lightgbm/basic.py:859: UserWarning: Converting data to scipy sparse matrix.\n",
      "  _log_warning('Converting data to scipy sparse matrix.')\n"
     ]
    },
    {
     "name": "stdout",
     "output_type": "stream",
     "text": [
      "0.6060185432434082\n"
     ]
    }
   ],
   "source": [
    "start = time.time()\n",
    "\n",
    "env = gresearch_crypto.make_env()\n",
    "iter_test = env.iter_test()\n",
    "\n",
    "# create dataframe to store data from the api to create lagged features\n",
    "history = pd.DataFrame()\n",
    "for i, (df_test, df_pred) in enumerate(iter_test):\n",
    "    \n",
    "    # concatenate new api data to history dataframe\n",
    "    history = pd.concat([history, df_test[['timestamp','Asset_ID','Close','row_id']]])\n",
    "    for j , row in df_test.iterrows():\n",
    "        # get features using history dataframe\n",
    "        row_features = get_features(history, row['Asset_ID'], train=False)\n",
    "        row = row_features.iloc[-1].fillna(0)\n",
    "        y_pred = model.predict(row[features])[0]\n",
    "\n",
    "        df_pred.loc[df_pred['row_id'] == row['row_id'], 'Target'] = y_pred\n",
    "    \n",
    "    # we only want to keep the necessary recent part of our history dataframe, which will depend on your\n",
    "    # max_lookback value (your furthest lookback in creating lagged features).\n",
    "    history = history.sort_values(by='row_id')\n",
    "    history = history.iloc[-(max_lookback*14+100):]\n",
    "    \n",
    "    # Send submissions\n",
    "    env.predict(df_pred)\n",
    "stop = time.time()\n",
    "print(stop-start)"
   ]
  }
 ],
 "metadata": {
  "kernelspec": {
   "display_name": "Python 3 (ipykernel)",
   "language": "python",
   "name": "python3"
  },
  "language_info": {
   "codemirror_mode": {
    "name": "ipython",
    "version": 3
   },
   "file_extension": ".py",
   "mimetype": "text/x-python",
   "name": "python",
   "nbconvert_exporter": "python",
   "pygments_lexer": "ipython3",
   "version": "3.10.8"
  },
  "papermill": {
   "default_parameters": {},
   "duration": 297.79727,
   "end_time": "2021-12-12T14:58:52.060364",
   "environment_variables": {},
   "exception": null,
   "input_path": "__notebook__.ipynb",
   "output_path": "__notebook__.ipynb",
   "parameters": {},
   "start_time": "2021-12-12T14:53:54.263094",
   "version": "2.3.3"
  }
 },
 "nbformat": 4,
 "nbformat_minor": 5
}
